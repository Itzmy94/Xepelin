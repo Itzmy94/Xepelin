{
 "cells": [
  {
   "cell_type": "markdown",
   "id": "7ad40ba4",
   "metadata": {},
   "source": [
    "<br>Datos disponibles:\n",
    "<br>PayerId Id de la empresa que va a realizar el pago\n",
    "<br>ReceiverId Id de la empresa que recibe el pago\n",
    "<br>invoiceId Id de la factura pagada\n",
    "<br>paidAt Fecha de pago\n",
    "<br>amount Monto de la factura pagada\n",
    "<br>amountfinancedByXepelin Monto de la factura que Xepelin financió al pagador para realizar la\n",
    "transacción\n",
    "<br>Status Estado de cada transacción Pagada, Procesando, Fallida."
   ]
  },
  {
   "cell_type": "code",
   "execution_count": 1,
   "id": "dd3e0efb",
   "metadata": {},
   "outputs": [],
   "source": [
    "import pandas as pd\n",
    "import numpy as np"
   ]
  },
  {
   "cell_type": "code",
   "execution_count": 2,
   "id": "c009b203",
   "metadata": {},
   "outputs": [
    {
     "data": {
      "text/plain": [
       "'C:\\\\Users\\\\INTEL\\\\Documents\\\\Xepelin'"
      ]
     },
     "execution_count": 2,
     "metadata": {},
     "output_type": "execute_result"
    }
   ],
   "source": [
    "import os\n",
    "os.getcwd()"
   ]
  },
  {
   "cell_type": "code",
   "execution_count": 8,
   "id": "26703b05",
   "metadata": {},
   "outputs": [],
   "source": [
    "data = pd.read_csv('data_test.csv')\n",
    "data.columns = data.columns.str.lower()"
   ]
  },
  {
   "cell_type": "code",
   "execution_count": 9,
   "id": "d6611036",
   "metadata": {},
   "outputs": [
    {
     "name": "stdout",
     "output_type": "stream",
     "text": [
      "   payerid  receiverid  invoiceid               paidat     amount  \\\n",
      "0       53          10   18660729  2022-04-23 00:00:00    1490.46   \n",
      "1       93          11   18660730  2021-11-20 00:00:00    6418.28   \n",
      "2      122          12   18660731  2021-10-19 00:00:00   27979.20   \n",
      "3       85          13   18660732  2021-11-13 00:00:00  183070.77   \n",
      "4       87          14   18660733  2022-03-23 00:00:00   20532.00   \n",
      "\n",
      "   amountfinancedbyxepelin status  \n",
      "0                     0.00   PAID  \n",
      "1                   624.48   PAID  \n",
      "2                 10520.15   PAID  \n",
      "3                 79421.63   PAID  \n",
      "4                 20532.00   PAID   \n",
      "\n",
      " payerid                      int64\n",
      "receiverid                   int64\n",
      "invoiceid                    int64\n",
      "paidat                      object\n",
      "amount                     float64\n",
      "amountfinancedbyxepelin    float64\n",
      "status                      object\n",
      "dtype: object\n"
     ]
    }
   ],
   "source": [
    "print(data.head() , '\\n\\n',data.dtypes)"
   ]
  },
  {
   "cell_type": "code",
   "execution_count": 61,
   "id": "d620149d",
   "metadata": {},
   "outputs": [
    {
     "data": {
      "text/plain": [
       "payerid                      0\n",
       "receiverid                   0\n",
       "invoiceid                    0\n",
       "paidat                     308\n",
       "amount                       0\n",
       "amountfinancedbyxepelin      0\n",
       "status                       0\n",
       "iddate                       0\n",
       "month                        0\n",
       "year                         0\n",
       "dtype: int64"
      ]
     },
     "execution_count": 61,
     "metadata": {},
     "output_type": "execute_result"
    }
   ],
   "source": [
    "data.isna().sum()"
   ]
  },
  {
   "cell_type": "code",
   "execution_count": 63,
   "id": "fc0aceea",
   "metadata": {},
   "outputs": [
    {
     "data": {
      "text/plain": [
       "0"
      ]
     },
     "execution_count": 63,
     "metadata": {},
     "output_type": "execute_result"
    }
   ],
   "source": [
    "data['invoiceid'].duplicated().sum()"
   ]
  },
  {
   "cell_type": "code",
   "execution_count": 11,
   "id": "1298363f",
   "metadata": {},
   "outputs": [],
   "source": [
    "data['paidat'] = pd.to_datetime(data['paidat'])"
   ]
  },
  {
   "cell_type": "code",
   "execution_count": 59,
   "id": "57a921f6",
   "metadata": {},
   "outputs": [
    {
     "name": "stdout",
     "output_type": "stream",
     "text": [
      "0       202204\n",
      "1       202111\n",
      "2       202110\n",
      "3       202111\n",
      "4       202203\n",
      "         ...  \n",
      "1195       000\n",
      "1196       000\n",
      "1197       000\n",
      "1198       000\n",
      "1199       000\n",
      "Name: iddate, Length: 1200, dtype: object\n"
     ]
    }
   ],
   "source": [
    "data['month'] = data['paidat'].dt.month.fillna(0).astype(int).astype(str)\n",
    "data['year'] = data['paidat'].dt.year.fillna(0).astype(int).astype(str)\n",
    "data['month'] = np.where(data['month'].str.len() < 2 , '0'+data['month'],data['month'])\n",
    "data['iddate'] = data['year'] + data['month']\n",
    "print(data['iddate'])"
   ]
  },
  {
   "cell_type": "markdown",
   "id": "a9df21c7",
   "metadata": {},
   "source": [
    "Solo hay failed y processing en status, hay pocas transacciones en mayo, seran todas las pendientes de este mes ?"
   ]
  },
  {
   "cell_type": "code",
   "execution_count": 67,
   "id": "91468f9a",
   "metadata": {},
   "outputs": [
    {
     "data": {
      "text/html": [
       "<div>\n",
       "<style scoped>\n",
       "    .dataframe tbody tr th:only-of-type {\n",
       "        vertical-align: middle;\n",
       "    }\n",
       "\n",
       "    .dataframe tbody tr th {\n",
       "        vertical-align: top;\n",
       "    }\n",
       "\n",
       "    .dataframe thead th {\n",
       "        text-align: right;\n",
       "    }\n",
       "</style>\n",
       "<table border=\"1\" class=\"dataframe\">\n",
       "  <thead>\n",
       "    <tr style=\"text-align: right;\">\n",
       "      <th></th>\n",
       "      <th>iddate</th>\n",
       "      <th>status</th>\n",
       "      <th>invoiceid</th>\n",
       "      <th>amount</th>\n",
       "      <th>amountfinancedbyxepelin</th>\n",
       "    </tr>\n",
       "  </thead>\n",
       "  <tbody>\n",
       "    <tr>\n",
       "      <th>0</th>\n",
       "      <td>000</td>\n",
       "      <td>FAILED</td>\n",
       "      <td>39</td>\n",
       "      <td>2610972.74</td>\n",
       "      <td>2435517.73</td>\n",
       "    </tr>\n",
       "    <tr>\n",
       "      <th>1</th>\n",
       "      <td>000</td>\n",
       "      <td>PROCESSING</td>\n",
       "      <td>269</td>\n",
       "      <td>3380613.38</td>\n",
       "      <td>2011203.00</td>\n",
       "    </tr>\n",
       "    <tr>\n",
       "      <th>2</th>\n",
       "      <td>202110</td>\n",
       "      <td>PAID</td>\n",
       "      <td>5</td>\n",
       "      <td>35902.64</td>\n",
       "      <td>10520.15</td>\n",
       "    </tr>\n",
       "    <tr>\n",
       "      <th>3</th>\n",
       "      <td>202111</td>\n",
       "      <td>PAID</td>\n",
       "      <td>13</td>\n",
       "      <td>268349.19</td>\n",
       "      <td>119352.51</td>\n",
       "    </tr>\n",
       "    <tr>\n",
       "      <th>4</th>\n",
       "      <td>202112</td>\n",
       "      <td>PAID</td>\n",
       "      <td>17</td>\n",
       "      <td>753946.49</td>\n",
       "      <td>592831.07</td>\n",
       "    </tr>\n",
       "    <tr>\n",
       "      <th>5</th>\n",
       "      <td>202201</td>\n",
       "      <td>PAID</td>\n",
       "      <td>107</td>\n",
       "      <td>7283045.52</td>\n",
       "      <td>5219511.13</td>\n",
       "    </tr>\n",
       "    <tr>\n",
       "      <th>6</th>\n",
       "      <td>202202</td>\n",
       "      <td>PAID</td>\n",
       "      <td>183</td>\n",
       "      <td>7100660.51</td>\n",
       "      <td>4485712.42</td>\n",
       "    </tr>\n",
       "    <tr>\n",
       "      <th>7</th>\n",
       "      <td>202203</td>\n",
       "      <td>PAID</td>\n",
       "      <td>225</td>\n",
       "      <td>5765920.25</td>\n",
       "      <td>2344379.98</td>\n",
       "    </tr>\n",
       "    <tr>\n",
       "      <th>8</th>\n",
       "      <td>202204</td>\n",
       "      <td>PAID</td>\n",
       "      <td>269</td>\n",
       "      <td>5042399.69</td>\n",
       "      <td>3057870.38</td>\n",
       "    </tr>\n",
       "    <tr>\n",
       "      <th>9</th>\n",
       "      <td>202205</td>\n",
       "      <td>PAID</td>\n",
       "      <td>73</td>\n",
       "      <td>1180788.62</td>\n",
       "      <td>714735.77</td>\n",
       "    </tr>\n",
       "  </tbody>\n",
       "</table>\n",
       "</div>"
      ],
      "text/plain": [
       "   iddate      status  invoiceid      amount  amountfinancedbyxepelin\n",
       "0     000      FAILED         39  2610972.74               2435517.73\n",
       "1     000  PROCESSING        269  3380613.38               2011203.00\n",
       "2  202110        PAID          5    35902.64                 10520.15\n",
       "3  202111        PAID         13   268349.19                119352.51\n",
       "4  202112        PAID         17   753946.49                592831.07\n",
       "5  202201        PAID        107  7283045.52               5219511.13\n",
       "6  202202        PAID        183  7100660.51               4485712.42\n",
       "7  202203        PAID        225  5765920.25               2344379.98\n",
       "8  202204        PAID        269  5042399.69               3057870.38\n",
       "9  202205        PAID         73  1180788.62                714735.77"
      ]
     },
     "execution_count": 67,
     "metadata": {},
     "output_type": "execute_result"
    }
   ],
   "source": [
    "data.groupby(['iddate','status']).agg({'invoiceid' : 'count','amount':'sum','amountfinancedbyxepelin':'sum' }).reset_index()"
   ]
  },
  {
   "cell_type": "markdown",
   "id": "312f71c9",
   "metadata": {},
   "source": [
    "Hay transacciones intermedias que estan en processing viendo los correlativos del invoiceid"
   ]
  },
  {
   "cell_type": "code",
   "execution_count": 223,
   "id": "13aa42aa",
   "metadata": {},
   "outputs": [
    {
     "data": {
      "text/html": [
       "<div>\n",
       "<style scoped>\n",
       "    .dataframe tbody tr th:only-of-type {\n",
       "        vertical-align: middle;\n",
       "    }\n",
       "\n",
       "    .dataframe tbody tr th {\n",
       "        vertical-align: top;\n",
       "    }\n",
       "\n",
       "    .dataframe thead th {\n",
       "        text-align: right;\n",
       "    }\n",
       "</style>\n",
       "<table border=\"1\" class=\"dataframe\">\n",
       "  <thead>\n",
       "    <tr style=\"text-align: right;\">\n",
       "      <th></th>\n",
       "      <th>payerid</th>\n",
       "      <th>receiverid</th>\n",
       "      <th>invoiceid</th>\n",
       "      <th>paidat</th>\n",
       "      <th>amount</th>\n",
       "      <th>amountfinancedbyxepelin</th>\n",
       "      <th>status</th>\n",
       "      <th>iddate</th>\n",
       "      <th>month</th>\n",
       "      <th>year</th>\n",
       "      <th>iddate_2</th>\n",
       "    </tr>\n",
       "  </thead>\n",
       "  <tbody>\n",
       "    <tr>\n",
       "      <th>0</th>\n",
       "      <td>53</td>\n",
       "      <td>10</td>\n",
       "      <td>18660729</td>\n",
       "      <td>2022-04-23</td>\n",
       "      <td>1490.46</td>\n",
       "      <td>0.00</td>\n",
       "      <td>PAID</td>\n",
       "      <td>202204</td>\n",
       "      <td>04</td>\n",
       "      <td>2022</td>\n",
       "      <td>202204</td>\n",
       "    </tr>\n",
       "    <tr>\n",
       "      <th>40</th>\n",
       "      <td>10</td>\n",
       "      <td>16</td>\n",
       "      <td>18660769</td>\n",
       "      <td>2022-01-10</td>\n",
       "      <td>1461.06</td>\n",
       "      <td>0.00</td>\n",
       "      <td>PAID</td>\n",
       "      <td>202201</td>\n",
       "      <td>01</td>\n",
       "      <td>2022</td>\n",
       "      <td>202201</td>\n",
       "    </tr>\n",
       "    <tr>\n",
       "      <th>167</th>\n",
       "      <td>189</td>\n",
       "      <td>10</td>\n",
       "      <td>18660896</td>\n",
       "      <td>2022-04-24</td>\n",
       "      <td>1490.46</td>\n",
       "      <td>0.00</td>\n",
       "      <td>PAID</td>\n",
       "      <td>202204</td>\n",
       "      <td>04</td>\n",
       "      <td>2022</td>\n",
       "      <td>202204</td>\n",
       "    </tr>\n",
       "    <tr>\n",
       "      <th>186</th>\n",
       "      <td>10</td>\n",
       "      <td>42</td>\n",
       "      <td>18660915</td>\n",
       "      <td>2022-04-23</td>\n",
       "      <td>4035.06</td>\n",
       "      <td>0.00</td>\n",
       "      <td>PAID</td>\n",
       "      <td>202204</td>\n",
       "      <td>04</td>\n",
       "      <td>2022</td>\n",
       "      <td>202204</td>\n",
       "    </tr>\n",
       "    <tr>\n",
       "      <th>200</th>\n",
       "      <td>25</td>\n",
       "      <td>10</td>\n",
       "      <td>18660929</td>\n",
       "      <td>2022-01-17</td>\n",
       "      <td>1447.86</td>\n",
       "      <td>0.00</td>\n",
       "      <td>PAID</td>\n",
       "      <td>202201</td>\n",
       "      <td>01</td>\n",
       "      <td>2022</td>\n",
       "      <td>202201</td>\n",
       "    </tr>\n",
       "    <tr>\n",
       "      <th>367</th>\n",
       "      <td>59</td>\n",
       "      <td>10</td>\n",
       "      <td>18661096</td>\n",
       "      <td>2022-04-20</td>\n",
       "      <td>1490.26</td>\n",
       "      <td>0.00</td>\n",
       "      <td>PAID</td>\n",
       "      <td>202204</td>\n",
       "      <td>04</td>\n",
       "      <td>2022</td>\n",
       "      <td>202204</td>\n",
       "    </tr>\n",
       "    <tr>\n",
       "      <th>400</th>\n",
       "      <td>49</td>\n",
       "      <td>10</td>\n",
       "      <td>18661129</td>\n",
       "      <td>2022-04-10</td>\n",
       "      <td>1139.86</td>\n",
       "      <td>0.00</td>\n",
       "      <td>PAID</td>\n",
       "      <td>202204</td>\n",
       "      <td>04</td>\n",
       "      <td>2022</td>\n",
       "      <td>202204</td>\n",
       "    </tr>\n",
       "    <tr>\n",
       "      <th>567</th>\n",
       "      <td>87</td>\n",
       "      <td>10</td>\n",
       "      <td>18661296</td>\n",
       "      <td>2022-03-19</td>\n",
       "      <td>1723.86</td>\n",
       "      <td>0.00</td>\n",
       "      <td>PAID</td>\n",
       "      <td>202203</td>\n",
       "      <td>03</td>\n",
       "      <td>2022</td>\n",
       "      <td>202203</td>\n",
       "    </tr>\n",
       "    <tr>\n",
       "      <th>600</th>\n",
       "      <td>58</td>\n",
       "      <td>10</td>\n",
       "      <td>18661329</td>\n",
       "      <td>2022-03-22</td>\n",
       "      <td>16240.00</td>\n",
       "      <td>5485.98</td>\n",
       "      <td>PAID</td>\n",
       "      <td>202203</td>\n",
       "      <td>03</td>\n",
       "      <td>2022</td>\n",
       "      <td>202203</td>\n",
       "    </tr>\n",
       "    <tr>\n",
       "      <th>767</th>\n",
       "      <td>115</td>\n",
       "      <td>10</td>\n",
       "      <td>18661496</td>\n",
       "      <td>NaT</td>\n",
       "      <td>1867.60</td>\n",
       "      <td>0.00</td>\n",
       "      <td>PROCESSING</td>\n",
       "      <td>000</td>\n",
       "      <td>00</td>\n",
       "      <td>0</td>\n",
       "      <td>202205</td>\n",
       "    </tr>\n",
       "    <tr>\n",
       "      <th>800</th>\n",
       "      <td>110</td>\n",
       "      <td>10</td>\n",
       "      <td>18661529</td>\n",
       "      <td>NaT</td>\n",
       "      <td>7297.20</td>\n",
       "      <td>0.00</td>\n",
       "      <td>PROCESSING</td>\n",
       "      <td>000</td>\n",
       "      <td>00</td>\n",
       "      <td>0</td>\n",
       "      <td>202205</td>\n",
       "    </tr>\n",
       "    <tr>\n",
       "      <th>862</th>\n",
       "      <td>10</td>\n",
       "      <td>21</td>\n",
       "      <td>18661591</td>\n",
       "      <td>NaT</td>\n",
       "      <td>1490.26</td>\n",
       "      <td>0.00</td>\n",
       "      <td>PROCESSING</td>\n",
       "      <td>000</td>\n",
       "      <td>00</td>\n",
       "      <td>0</td>\n",
       "      <td>202205</td>\n",
       "    </tr>\n",
       "    <tr>\n",
       "      <th>884</th>\n",
       "      <td>10</td>\n",
       "      <td>16</td>\n",
       "      <td>18661613</td>\n",
       "      <td>2022-03-19</td>\n",
       "      <td>992.40</td>\n",
       "      <td>0.00</td>\n",
       "      <td>PAID</td>\n",
       "      <td>202203</td>\n",
       "      <td>03</td>\n",
       "      <td>2022</td>\n",
       "      <td>202203</td>\n",
       "    </tr>\n",
       "    <tr>\n",
       "      <th>931</th>\n",
       "      <td>10</td>\n",
       "      <td>19</td>\n",
       "      <td>18661660</td>\n",
       "      <td>2022-04-02</td>\n",
       "      <td>710.40</td>\n",
       "      <td>0.00</td>\n",
       "      <td>PAID</td>\n",
       "      <td>202204</td>\n",
       "      <td>04</td>\n",
       "      <td>2022</td>\n",
       "      <td>202204</td>\n",
       "    </tr>\n",
       "    <tr>\n",
       "      <th>967</th>\n",
       "      <td>52</td>\n",
       "      <td>10</td>\n",
       "      <td>18661696</td>\n",
       "      <td>NaT</td>\n",
       "      <td>710.20</td>\n",
       "      <td>0.00</td>\n",
       "      <td>PROCESSING</td>\n",
       "      <td>000</td>\n",
       "      <td>00</td>\n",
       "      <td>0</td>\n",
       "      <td>202205</td>\n",
       "    </tr>\n",
       "    <tr>\n",
       "      <th>1000</th>\n",
       "      <td>75</td>\n",
       "      <td>10</td>\n",
       "      <td>18661729</td>\n",
       "      <td>2022-04-24</td>\n",
       "      <td>43732.00</td>\n",
       "      <td>5333.31</td>\n",
       "      <td>PAID</td>\n",
       "      <td>202204</td>\n",
       "      <td>04</td>\n",
       "      <td>2022</td>\n",
       "      <td>202204</td>\n",
       "    </tr>\n",
       "    <tr>\n",
       "      <th>1021</th>\n",
       "      <td>10</td>\n",
       "      <td>58</td>\n",
       "      <td>18661750</td>\n",
       "      <td>NaT</td>\n",
       "      <td>2268.46</td>\n",
       "      <td>0.00</td>\n",
       "      <td>PROCESSING</td>\n",
       "      <td>000</td>\n",
       "      <td>00</td>\n",
       "      <td>0</td>\n",
       "      <td>202205</td>\n",
       "    </tr>\n",
       "    <tr>\n",
       "      <th>1167</th>\n",
       "      <td>51</td>\n",
       "      <td>10</td>\n",
       "      <td>18661896</td>\n",
       "      <td>NaT</td>\n",
       "      <td>1490.26</td>\n",
       "      <td>0.00</td>\n",
       "      <td>FAILED</td>\n",
       "      <td>000</td>\n",
       "      <td>00</td>\n",
       "      <td>0</td>\n",
       "      <td>202205</td>\n",
       "    </tr>\n",
       "  </tbody>\n",
       "</table>\n",
       "</div>"
      ],
      "text/plain": [
       "      payerid  receiverid  invoiceid     paidat    amount  \\\n",
       "0          53          10   18660729 2022-04-23   1490.46   \n",
       "40         10          16   18660769 2022-01-10   1461.06   \n",
       "167       189          10   18660896 2022-04-24   1490.46   \n",
       "186        10          42   18660915 2022-04-23   4035.06   \n",
       "200        25          10   18660929 2022-01-17   1447.86   \n",
       "367        59          10   18661096 2022-04-20   1490.26   \n",
       "400        49          10   18661129 2022-04-10   1139.86   \n",
       "567        87          10   18661296 2022-03-19   1723.86   \n",
       "600        58          10   18661329 2022-03-22  16240.00   \n",
       "767       115          10   18661496        NaT   1867.60   \n",
       "800       110          10   18661529        NaT   7297.20   \n",
       "862        10          21   18661591        NaT   1490.26   \n",
       "884        10          16   18661613 2022-03-19    992.40   \n",
       "931        10          19   18661660 2022-04-02    710.40   \n",
       "967        52          10   18661696        NaT    710.20   \n",
       "1000       75          10   18661729 2022-04-24  43732.00   \n",
       "1021       10          58   18661750        NaT   2268.46   \n",
       "1167       51          10   18661896        NaT   1490.26   \n",
       "\n",
       "      amountfinancedbyxepelin      status  iddate month  year iddate_2  \n",
       "0                        0.00        PAID  202204    04  2022   202204  \n",
       "40                       0.00        PAID  202201    01  2022   202201  \n",
       "167                      0.00        PAID  202204    04  2022   202204  \n",
       "186                      0.00        PAID  202204    04  2022   202204  \n",
       "200                      0.00        PAID  202201    01  2022   202201  \n",
       "367                      0.00        PAID  202204    04  2022   202204  \n",
       "400                      0.00        PAID  202204    04  2022   202204  \n",
       "567                      0.00        PAID  202203    03  2022   202203  \n",
       "600                   5485.98        PAID  202203    03  2022   202203  \n",
       "767                      0.00  PROCESSING     000    00     0   202205  \n",
       "800                      0.00  PROCESSING     000    00     0   202205  \n",
       "862                      0.00  PROCESSING     000    00     0   202205  \n",
       "884                      0.00        PAID  202203    03  2022   202203  \n",
       "931                      0.00        PAID  202204    04  2022   202204  \n",
       "967                      0.00  PROCESSING     000    00     0   202205  \n",
       "1000                  5333.31        PAID  202204    04  2022   202204  \n",
       "1021                     0.00  PROCESSING     000    00     0   202205  \n",
       "1167                     0.00      FAILED     000    00     0   202205  "
      ]
     },
     "execution_count": 223,
     "metadata": {},
     "output_type": "execute_result"
    }
   ],
   "source": [
    "data[(data['payerid']==10) | (data['receiverid']==10)]"
   ]
  },
  {
   "cell_type": "markdown",
   "id": "193ad44e",
   "metadata": {},
   "source": [
    "Buscamos el miximo y maximo invoiceid por mes, para intentar completar este dato y tener una idea de a que mes corresponden estas transacciones"
   ]
  },
  {
   "cell_type": "code",
   "execution_count": 92,
   "id": "5ae50acb",
   "metadata": {},
   "outputs": [],
   "source": [
    "aber =data.groupby(['iddate','status']).agg({'invoiceid' : ['max','min']}).reset_index()"
   ]
  },
  {
   "cell_type": "code",
   "execution_count": 93,
   "id": "97a8d183",
   "metadata": {},
   "outputs": [
    {
     "name": "stdout",
     "output_type": "stream",
     "text": [
      "['iddate', 'status', 'invoiceid_max', 'invoiceid_min']\n"
     ]
    }
   ],
   "source": [
    "new_keys=[]\n",
    "for element in aber.columns:\n",
    "    key,agg = element\n",
    "    if agg=='':\n",
    "        new=key\n",
    "    else:\n",
    "        new=key+'_'+agg\n",
    "    new_keys.append(new)\n",
    "print(new_keys)"
   ]
  },
  {
   "cell_type": "code",
   "execution_count": 94,
   "id": "6a53a5a0",
   "metadata": {},
   "outputs": [],
   "source": [
    "aber.columns = new_keys"
   ]
  },
  {
   "cell_type": "code",
   "execution_count": 95,
   "id": "f98abd5b",
   "metadata": {},
   "outputs": [
    {
     "data": {
      "text/plain": [
       "Index(['iddate', 'status', 'invoiceid_max', 'invoiceid_min'], dtype='object')"
      ]
     },
     "execution_count": 95,
     "metadata": {},
     "output_type": "execute_result"
    }
   ],
   "source": [
    "aber.columns"
   ]
  },
  {
   "cell_type": "code",
   "execution_count": 99,
   "id": "d2123df0",
   "metadata": {},
   "outputs": [],
   "source": [
    "aber = aber[aber['status']=='PAID']\n",
    "aber.drop('status',inplace=True,axis=1)"
   ]
  },
  {
   "cell_type": "markdown",
   "id": "3240076b",
   "metadata": {},
   "source": [
    "Los maximos y minimos del id de transaccion se traslapan, por lo que no se podria completar"
   ]
  },
  {
   "cell_type": "code",
   "execution_count": 101,
   "id": "c150411d",
   "metadata": {},
   "outputs": [
    {
     "data": {
      "text/html": [
       "<div>\n",
       "<style scoped>\n",
       "    .dataframe tbody tr th:only-of-type {\n",
       "        vertical-align: middle;\n",
       "    }\n",
       "\n",
       "    .dataframe tbody tr th {\n",
       "        vertical-align: top;\n",
       "    }\n",
       "\n",
       "    .dataframe thead th {\n",
       "        text-align: right;\n",
       "    }\n",
       "</style>\n",
       "<table border=\"1\" class=\"dataframe\">\n",
       "  <thead>\n",
       "    <tr style=\"text-align: right;\">\n",
       "      <th></th>\n",
       "      <th>iddate</th>\n",
       "      <th>invoiceid_max</th>\n",
       "      <th>invoiceid_min</th>\n",
       "    </tr>\n",
       "  </thead>\n",
       "  <tbody>\n",
       "    <tr>\n",
       "      <th>2</th>\n",
       "      <td>202110</td>\n",
       "      <td>18660744</td>\n",
       "      <td>18660731</td>\n",
       "    </tr>\n",
       "    <tr>\n",
       "      <th>3</th>\n",
       "      <td>202111</td>\n",
       "      <td>18660849</td>\n",
       "      <td>18660730</td>\n",
       "    </tr>\n",
       "    <tr>\n",
       "      <th>4</th>\n",
       "      <td>202112</td>\n",
       "      <td>18661430</td>\n",
       "      <td>18660740</td>\n",
       "    </tr>\n",
       "    <tr>\n",
       "      <th>5</th>\n",
       "      <td>202201</td>\n",
       "      <td>18661881</td>\n",
       "      <td>18660748</td>\n",
       "    </tr>\n",
       "    <tr>\n",
       "      <th>6</th>\n",
       "      <td>202202</td>\n",
       "      <td>18661893</td>\n",
       "      <td>18660782</td>\n",
       "    </tr>\n",
       "    <tr>\n",
       "      <th>7</th>\n",
       "      <td>202203</td>\n",
       "      <td>18661829</td>\n",
       "      <td>18660733</td>\n",
       "    </tr>\n",
       "    <tr>\n",
       "      <th>8</th>\n",
       "      <td>202204</td>\n",
       "      <td>18661899</td>\n",
       "      <td>18660729</td>\n",
       "    </tr>\n",
       "    <tr>\n",
       "      <th>9</th>\n",
       "      <td>202205</td>\n",
       "      <td>18661443</td>\n",
       "      <td>18660863</td>\n",
       "    </tr>\n",
       "  </tbody>\n",
       "</table>\n",
       "</div>"
      ],
      "text/plain": [
       "   iddate  invoiceid_max  invoiceid_min\n",
       "2  202110       18660744       18660731\n",
       "3  202111       18660849       18660730\n",
       "4  202112       18661430       18660740\n",
       "5  202201       18661881       18660748\n",
       "6  202202       18661893       18660782\n",
       "7  202203       18661829       18660733\n",
       "8  202204       18661899       18660729\n",
       "9  202205       18661443       18660863"
      ]
     },
     "execution_count": 101,
     "metadata": {},
     "output_type": "execute_result"
    }
   ],
   "source": [
    "aber"
   ]
  },
  {
   "cell_type": "markdown",
   "id": "39d00be1",
   "metadata": {},
   "source": [
    "Supuesto : Todas las transacciones pendientes se van a materializar en el 2022 Mayo.\n",
    "Nos quedamos solo tansacciones con status paid or processing"
   ]
  },
  {
   "cell_type": "code",
   "execution_count": 113,
   "id": "a08fd5b6",
   "metadata": {},
   "outputs": [],
   "source": [
    "data['iddate_2'] = np.where(data['paidat'].isna(),'202205',data['iddate'])\n",
    "data_2 = data[~data['status'].isin(['FAILED']) ]"
   ]
  },
  {
   "cell_type": "code",
   "execution_count": 114,
   "id": "b32b571a",
   "metadata": {},
   "outputs": [
    {
     "data": {
      "text/html": [
       "<div>\n",
       "<style scoped>\n",
       "    .dataframe tbody tr th:only-of-type {\n",
       "        vertical-align: middle;\n",
       "    }\n",
       "\n",
       "    .dataframe tbody tr th {\n",
       "        vertical-align: top;\n",
       "    }\n",
       "\n",
       "    .dataframe thead th {\n",
       "        text-align: right;\n",
       "    }\n",
       "</style>\n",
       "<table border=\"1\" class=\"dataframe\">\n",
       "  <thead>\n",
       "    <tr style=\"text-align: right;\">\n",
       "      <th></th>\n",
       "      <th>payerid</th>\n",
       "      <th>receiverid</th>\n",
       "      <th>invoiceid</th>\n",
       "      <th>paidat</th>\n",
       "      <th>amount</th>\n",
       "      <th>amountfinancedbyxepelin</th>\n",
       "      <th>status</th>\n",
       "      <th>iddate</th>\n",
       "      <th>month</th>\n",
       "      <th>year</th>\n",
       "      <th>iddate_2</th>\n",
       "    </tr>\n",
       "  </thead>\n",
       "  <tbody>\n",
       "    <tr>\n",
       "      <th>0</th>\n",
       "      <td>53</td>\n",
       "      <td>10</td>\n",
       "      <td>18660729</td>\n",
       "      <td>2022-04-23</td>\n",
       "      <td>1490.46</td>\n",
       "      <td>0.00</td>\n",
       "      <td>PAID</td>\n",
       "      <td>202204</td>\n",
       "      <td>04</td>\n",
       "      <td>2022</td>\n",
       "      <td>202204</td>\n",
       "    </tr>\n",
       "    <tr>\n",
       "      <th>1</th>\n",
       "      <td>93</td>\n",
       "      <td>11</td>\n",
       "      <td>18660730</td>\n",
       "      <td>2021-11-20</td>\n",
       "      <td>6418.28</td>\n",
       "      <td>624.48</td>\n",
       "      <td>PAID</td>\n",
       "      <td>202111</td>\n",
       "      <td>11</td>\n",
       "      <td>2021</td>\n",
       "      <td>202111</td>\n",
       "    </tr>\n",
       "    <tr>\n",
       "      <th>2</th>\n",
       "      <td>122</td>\n",
       "      <td>12</td>\n",
       "      <td>18660731</td>\n",
       "      <td>2021-10-19</td>\n",
       "      <td>27979.20</td>\n",
       "      <td>10520.15</td>\n",
       "      <td>PAID</td>\n",
       "      <td>202110</td>\n",
       "      <td>10</td>\n",
       "      <td>2021</td>\n",
       "      <td>202110</td>\n",
       "    </tr>\n",
       "    <tr>\n",
       "      <th>3</th>\n",
       "      <td>85</td>\n",
       "      <td>13</td>\n",
       "      <td>18660732</td>\n",
       "      <td>2021-11-13</td>\n",
       "      <td>183070.77</td>\n",
       "      <td>79421.63</td>\n",
       "      <td>PAID</td>\n",
       "      <td>202111</td>\n",
       "      <td>11</td>\n",
       "      <td>2021</td>\n",
       "      <td>202111</td>\n",
       "    </tr>\n",
       "    <tr>\n",
       "      <th>4</th>\n",
       "      <td>87</td>\n",
       "      <td>14</td>\n",
       "      <td>18660733</td>\n",
       "      <td>2022-03-23</td>\n",
       "      <td>20532.00</td>\n",
       "      <td>20532.00</td>\n",
       "      <td>PAID</td>\n",
       "      <td>202203</td>\n",
       "      <td>03</td>\n",
       "      <td>2022</td>\n",
       "      <td>202203</td>\n",
       "    </tr>\n",
       "    <tr>\n",
       "      <th>...</th>\n",
       "      <td>...</td>\n",
       "      <td>...</td>\n",
       "      <td>...</td>\n",
       "      <td>...</td>\n",
       "      <td>...</td>\n",
       "      <td>...</td>\n",
       "      <td>...</td>\n",
       "      <td>...</td>\n",
       "      <td>...</td>\n",
       "      <td>...</td>\n",
       "      <td>...</td>\n",
       "    </tr>\n",
       "    <tr>\n",
       "      <th>1156</th>\n",
       "      <td>151</td>\n",
       "      <td>82</td>\n",
       "      <td>18661885</td>\n",
       "      <td>NaT</td>\n",
       "      <td>1490.26</td>\n",
       "      <td>0.00</td>\n",
       "      <td>PROCESSING</td>\n",
       "      <td>000</td>\n",
       "      <td>00</td>\n",
       "      <td>0</td>\n",
       "      <td>202205</td>\n",
       "    </tr>\n",
       "    <tr>\n",
       "      <th>1157</th>\n",
       "      <td>136</td>\n",
       "      <td>55</td>\n",
       "      <td>18661886</td>\n",
       "      <td>NaT</td>\n",
       "      <td>2678.40</td>\n",
       "      <td>0.00</td>\n",
       "      <td>PROCESSING</td>\n",
       "      <td>000</td>\n",
       "      <td>00</td>\n",
       "      <td>0</td>\n",
       "      <td>202205</td>\n",
       "    </tr>\n",
       "    <tr>\n",
       "      <th>1163</th>\n",
       "      <td>191</td>\n",
       "      <td>118</td>\n",
       "      <td>18661892</td>\n",
       "      <td>2022-02-23</td>\n",
       "      <td>1147.86</td>\n",
       "      <td>0.00</td>\n",
       "      <td>PAID</td>\n",
       "      <td>202202</td>\n",
       "      <td>02</td>\n",
       "      <td>2022</td>\n",
       "      <td>202202</td>\n",
       "    </tr>\n",
       "    <tr>\n",
       "      <th>1164</th>\n",
       "      <td>171</td>\n",
       "      <td>125</td>\n",
       "      <td>18661893</td>\n",
       "      <td>2022-02-23</td>\n",
       "      <td>1792.46</td>\n",
       "      <td>0.00</td>\n",
       "      <td>PAID</td>\n",
       "      <td>202202</td>\n",
       "      <td>02</td>\n",
       "      <td>2022</td>\n",
       "      <td>202202</td>\n",
       "    </tr>\n",
       "    <tr>\n",
       "      <th>1170</th>\n",
       "      <td>145</td>\n",
       "      <td>58</td>\n",
       "      <td>18661899</td>\n",
       "      <td>2022-04-19</td>\n",
       "      <td>1490.46</td>\n",
       "      <td>0.00</td>\n",
       "      <td>PAID</td>\n",
       "      <td>202204</td>\n",
       "      <td>04</td>\n",
       "      <td>2022</td>\n",
       "      <td>202204</td>\n",
       "    </tr>\n",
       "  </tbody>\n",
       "</table>\n",
       "<p>1161 rows × 11 columns</p>\n",
       "</div>"
      ],
      "text/plain": [
       "      payerid  receiverid  invoiceid     paidat     amount  \\\n",
       "0          53          10   18660729 2022-04-23    1490.46   \n",
       "1          93          11   18660730 2021-11-20    6418.28   \n",
       "2         122          12   18660731 2021-10-19   27979.20   \n",
       "3          85          13   18660732 2021-11-13  183070.77   \n",
       "4          87          14   18660733 2022-03-23   20532.00   \n",
       "...       ...         ...        ...        ...        ...   \n",
       "1156      151          82   18661885        NaT    1490.26   \n",
       "1157      136          55   18661886        NaT    2678.40   \n",
       "1163      191         118   18661892 2022-02-23    1147.86   \n",
       "1164      171         125   18661893 2022-02-23    1792.46   \n",
       "1170      145          58   18661899 2022-04-19    1490.46   \n",
       "\n",
       "      amountfinancedbyxepelin      status  iddate month  year iddate_2  \n",
       "0                        0.00        PAID  202204    04  2022   202204  \n",
       "1                      624.48        PAID  202111    11  2021   202111  \n",
       "2                    10520.15        PAID  202110    10  2021   202110  \n",
       "3                    79421.63        PAID  202111    11  2021   202111  \n",
       "4                    20532.00        PAID  202203    03  2022   202203  \n",
       "...                       ...         ...     ...   ...   ...      ...  \n",
       "1156                     0.00  PROCESSING     000    00     0   202205  \n",
       "1157                     0.00  PROCESSING     000    00     0   202205  \n",
       "1163                     0.00        PAID  202202    02  2022   202202  \n",
       "1164                     0.00        PAID  202202    02  2022   202202  \n",
       "1170                     0.00        PAID  202204    04  2022   202204  \n",
       "\n",
       "[1161 rows x 11 columns]"
      ]
     },
     "execution_count": 114,
     "metadata": {},
     "output_type": "execute_result"
    }
   ],
   "source": [
    "data_2"
   ]
  },
  {
   "cell_type": "code",
   "execution_count": 166,
   "id": "cfb63e1b",
   "metadata": {},
   "outputs": [
    {
     "name": "stdout",
     "output_type": "stream",
     "text": [
      "  iddate_2  invoiceid      amount  amountfinancedbyxepelin\n",
      "0   202110          5    35902.64                 10520.15\n",
      "1   202111         13   268349.19                119352.51\n",
      "2   202112         17   753946.49                592831.07\n",
      "3   202201        107  7283045.52               5219511.13\n",
      "4   202202        183  7100660.51               4485712.42\n",
      "5   202203        225  5765920.25               2344379.98\n",
      "6   202204        269  5042399.69               3057870.38\n",
      "7   202205        342  4561402.00               2725938.77\n"
     ]
    }
   ],
   "source": [
    "groupby_month = data_2.groupby(['iddate_2']).agg({'invoiceid' : 'count','amount':'sum','amountfinancedbyxepelin':'sum' }).reset_index()\n",
    "print(groupby_month)"
   ]
  },
  {
   "cell_type": "markdown",
   "id": "4120f826",
   "metadata": {},
   "source": [
    "Con esto, vemos que, la cantidad de transacciones mensuales, sigue manteniendo la tendencia a creecr que tenia en los meses previos, asi como el monto que mueve Xepelin"
   ]
  },
  {
   "cell_type": "code",
   "execution_count": 130,
   "id": "8c0f6c21",
   "metadata": {},
   "outputs": [
    {
     "data": {
      "text/plain": [
       "<AxesSubplot:xlabel='iddate_2'>"
      ]
     },
     "execution_count": 130,
     "metadata": {},
     "output_type": "execute_result"
    },
    {
     "data": {
      "image/png": "[encoded data removed]",
      "text/plain": [
       "<Figure size 432x288 with 1 Axes>"
      ]
     },
     "metadata": {
      "needs_background": "light"
     },
     "output_type": "display_data"
    }
   ],
   "source": [
    "groupby_month[['iddate_2','invoiceid']].plot.bar(x='iddate_2')\n"
   ]
  },
  {
   "cell_type": "code",
   "execution_count": 132,
   "id": "c86e443d",
   "metadata": {},
   "outputs": [
    {
     "data": {
      "text/plain": [
       "<AxesSubplot:xlabel='iddate_2'>"
      ]
     },
     "execution_count": 132,
     "metadata": {},
     "output_type": "execute_result"
    },
    {
     "data": {
      "image/png": "[encoded data removed]",
      "text/plain": [
       "<Figure size 432x288 with 1 Axes>"
      ]
     },
     "metadata": {
      "needs_background": "light"
     },
     "output_type": "display_data"
    }
   ],
   "source": [
    "groupby_month[['iddate_2','amount','amountfinancedbyxepelin']].plot.line(x='iddate_2')"
   ]
  },
  {
   "cell_type": "markdown",
   "id": "0840abdd",
   "metadata": {},
   "source": [
    "Es claro que, a partir del 2022, el volumen de transacciones, tanto en cantidad como en monto son mayores, el numero de transacciones se viene incrementando, pero el monto, reduciendo"
   ]
  },
  {
   "cell_type": "code",
   "execution_count": 219,
   "id": "827aa9a6",
   "metadata": {},
   "outputs": [],
   "source": [
    "from sklearn.linear_model import LinearRegression\n",
    "from sklearn.metrics import r2_score"
   ]
  },
  {
   "cell_type": "code",
   "execution_count": 135,
   "id": "8037dd51",
   "metadata": {},
   "outputs": [
    {
     "data": {
      "text/plain": [
       "iddate_2                    object\n",
       "invoiceid                    int64\n",
       "amount                     float64\n",
       "amountfinancedbyxepelin    float64\n",
       "dtype: object"
      ]
     },
     "execution_count": 135,
     "metadata": {},
     "output_type": "execute_result"
    }
   ],
   "source": [
    "groupby_month.dtypes"
   ]
  },
  {
   "cell_type": "code",
   "execution_count": 168,
   "id": "d2118ff8",
   "metadata": {},
   "outputs": [],
   "source": [
    "groupby_month['iddate_2_num'] = groupby_month['iddate_2'].astype(int)"
   ]
  },
  {
   "cell_type": "code",
   "execution_count": 184,
   "id": "a5bef23e",
   "metadata": {},
   "outputs": [],
   "source": [
    "X_train = groupby_month[groupby_month['iddate_2_num']>=202201]['iddate_2_num']\n",
    "y_train = groupby_month[groupby_month['iddate_2_num']>=202201]['amount']"
   ]
  },
  {
   "cell_type": "code",
   "execution_count": 185,
   "id": "5e7af63b",
   "metadata": {},
   "outputs": [],
   "source": [
    "reg = LinearRegression().fit(X_train.values.reshape(-1, 1), y_train)"
   ]
  },
  {
   "cell_type": "markdown",
   "id": "5c91f2b1",
   "metadata": {},
   "source": [
    "R2"
   ]
  },
  {
   "cell_type": "code",
   "execution_count": 220,
   "id": "0aeb05bf",
   "metadata": {},
   "outputs": [
    {
     "data": {
      "text/plain": [
       "0.9559130232213517"
      ]
     },
     "execution_count": 220,
     "metadata": {},
     "output_type": "execute_result"
    }
   ],
   "source": [
    "r2_score(y_train , reg.predict(X_train.values.reshape(-1, 1)))"
   ]
  },
  {
   "cell_type": "code",
   "execution_count": 174,
   "id": "31236bb9",
   "metadata": {},
   "outputs": [
    {
     "name": "stdout",
     "output_type": "stream",
     "text": [
      "[-750154.786] 151689498879.15204\n"
     ]
    }
   ],
   "source": [
    "print(reg.coef_ , reg.intercept_)"
   ]
  },
  {
   "cell_type": "code",
   "execution_count": 208,
   "id": "72c0313b",
   "metadata": {},
   "outputs": [
    {
     "name": "stdout",
     "output_type": "stream",
     "text": [
      "<class 'pandas.core.series.Series'> <class 'pandas.core.series.Series'>\n"
     ]
    }
   ],
   "source": [
    "print(type(X_train), type(y_train))"
   ]
  },
  {
   "cell_type": "code",
   "execution_count": 210,
   "id": "e759a763",
   "metadata": {},
   "outputs": [],
   "source": [
    "X_y = pd.concat([X_train,y_train],axis=1)"
   ]
  },
  {
   "cell_type": "code",
   "execution_count": 211,
   "id": "7564d219",
   "metadata": {},
   "outputs": [
    {
     "name": "stderr",
     "output_type": "stream",
     "text": [
      "C:\\Users\\INTEL\\AppData\\Local\\Temp\\ipykernel_10524\\1947115815.py:1: FutureWarning: The frame.append method is deprecated and will be removed from pandas in a future version. Use pandas.concat instead.\n",
      "  X_y = X_y.append({'iddate_2_num':202206,}, ignore_index=True)\n"
     ]
    }
   ],
   "source": [
    "X_y = X_y.append({'iddate_2_num':202206,}, ignore_index=True)"
   ]
  },
  {
   "cell_type": "code",
   "execution_count": 214,
   "id": "d26a6266",
   "metadata": {},
   "outputs": [],
   "source": [
    "X_y['amount_predic'] = reg.predict(X_y['iddate_2_num'].values.reshape(-1,1))"
   ]
  },
  {
   "cell_type": "code",
   "execution_count": 215,
   "id": "773cff9c",
   "metadata": {},
   "outputs": [
    {
     "data": {
      "text/html": [
       "<div>\n",
       "<style scoped>\n",
       "    .dataframe tbody tr th:only-of-type {\n",
       "        vertical-align: middle;\n",
       "    }\n",
       "\n",
       "    .dataframe tbody tr th {\n",
       "        vertical-align: top;\n",
       "    }\n",
       "\n",
       "    .dataframe thead th {\n",
       "        text-align: right;\n",
       "    }\n",
       "</style>\n",
       "<table border=\"1\" class=\"dataframe\">\n",
       "  <thead>\n",
       "    <tr style=\"text-align: right;\">\n",
       "      <th></th>\n",
       "      <th>iddate_2_num</th>\n",
       "      <th>amount</th>\n",
       "      <th>amount_predic</th>\n",
       "    </tr>\n",
       "  </thead>\n",
       "  <tbody>\n",
       "    <tr>\n",
       "      <th>0</th>\n",
       "      <td>202201</td>\n",
       "      <td>7283045.52</td>\n",
       "      <td>7.450995e+06</td>\n",
       "    </tr>\n",
       "    <tr>\n",
       "      <th>1</th>\n",
       "      <td>202202</td>\n",
       "      <td>7100660.51</td>\n",
       "      <td>6.700840e+06</td>\n",
       "    </tr>\n",
       "    <tr>\n",
       "      <th>2</th>\n",
       "      <td>202203</td>\n",
       "      <td>5765920.25</td>\n",
       "      <td>5.950686e+06</td>\n",
       "    </tr>\n",
       "    <tr>\n",
       "      <th>3</th>\n",
       "      <td>202204</td>\n",
       "      <td>5042399.69</td>\n",
       "      <td>5.200531e+06</td>\n",
       "    </tr>\n",
       "    <tr>\n",
       "      <th>4</th>\n",
       "      <td>202205</td>\n",
       "      <td>4561402.00</td>\n",
       "      <td>4.450376e+06</td>\n",
       "    </tr>\n",
       "    <tr>\n",
       "      <th>5</th>\n",
       "      <td>202206</td>\n",
       "      <td>NaN</td>\n",
       "      <td>3.700221e+06</td>\n",
       "    </tr>\n",
       "  </tbody>\n",
       "</table>\n",
       "</div>"
      ],
      "text/plain": [
       "   iddate_2_num      amount  amount_predic\n",
       "0        202201  7283045.52   7.450995e+06\n",
       "1        202202  7100660.51   6.700840e+06\n",
       "2        202203  5765920.25   5.950686e+06\n",
       "3        202204  5042399.69   5.200531e+06\n",
       "4        202205  4561402.00   4.450376e+06\n",
       "5        202206         NaN   3.700221e+06"
      ]
     },
     "execution_count": 215,
     "metadata": {},
     "output_type": "execute_result"
    }
   ],
   "source": [
    "X_y"
   ]
  },
  {
   "cell_type": "code",
   "execution_count": 218,
   "id": "6240b4ba",
   "metadata": {},
   "outputs": [
    {
     "data": {
      "text/plain": [
       "<AxesSubplot:xlabel='iddate_2_num'>"
      ]
     },
     "execution_count": 218,
     "metadata": {},
     "output_type": "execute_result"
    },
    {
     "data": {
      "image/png": "[encoded data removed]",
      "text/plain": [
       "<Figure size 432x288 with 1 Axes>"
      ]
     },
     "metadata": {
      "needs_background": "light"
     },
     "output_type": "display_data"
    }
   ],
   "source": [
    "X_y[['iddate_2_num','amount','amount_predic']].plot.line(x='iddate_2_num')"
   ]
  },
  {
   "cell_type": "markdown",
   "id": "c7b7b21f",
   "metadata": {},
   "source": [
    "El estimado de volumen que tendría Xepelin para Junio sería : aprox : '3700221.23599243"
   ]
  }
 ],
 "metadata": {
  "kernelspec": {
   "display_name": "Python 3 (ipykernel)",
   "language": "python",
   "name": "python3"
  },
  "language_info": {
   "codemirror_mode": {
    "name": "ipython",
    "version": 3
   },
   "file_extension": ".py",
   "mimetype": "text/x-python",
   "name": "python",
   "nbconvert_exporter": "python",
   "pygments_lexer": "ipython3",
   "version": "3.9.12"
  }
 },
 "nbformat": 4,
 "nbformat_minor": 5
}
